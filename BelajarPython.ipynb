{
  "nbformat": 4,
  "nbformat_minor": 0,
  "metadata": {
    "colab": {
      "name": "BelajarPython.ipynb",
      "provenance": [],
      "collapsed_sections": [],
      "authorship_tag": "ABX9TyN11M3ETrSCim6V2EZ5hZWd",
      "include_colab_link": true
    },
    "kernelspec": {
      "name": "python3",
      "display_name": "Python 3"
    },
    "language_info": {
      "name": "python"
    }
  },
  "cells": [
    {
      "cell_type": "markdown",
      "metadata": {
        "id": "view-in-github",
        "colab_type": "text"
      },
      "source": [
        "<a href=\"https://colab.research.google.com/github/alkokt/PengantarDeepLearning2022/blob/master/BelajarPython.ipynb\" target=\"_parent\"><img src=\"https://colab.research.google.com/assets/colab-badge.svg\" alt=\"Open In Colab\"/></a>"
      ]
    },
    {
      "cell_type": "markdown",
      "source": [
        "**Nama : Alika Oktaviani**"
      ],
      "metadata": {
        "id": "5vR6NuLLEL8g"
      }
    },
    {
      "cell_type": "markdown",
      "source": [
        "**Nim  : H07110157**"
      ],
      "metadata": {
        "id": "gSj6PaR1Eae_"
      }
    },
    {
      "cell_type": "markdown",
      "source": [
        "# Belajar Python"
      ],
      "metadata": {
        "id": "ndKWdTKqEeO3"
      }
    },
    {
      "cell_type": "code",
      "execution_count": null,
      "metadata": {
        "colab": {
          "base_uri": "https://localhost:8080/"
        },
        "id": "BRraDpYkEI-E",
        "outputId": "2ac05c30-c4ef-444a-e492-c741f07f4d4e"
      },
      "outputs": [
        {
          "output_type": "stream",
          "name": "stdout",
          "text": [
            "Perulangan ke-0\n",
            "Perulangan ke-1\n",
            "Perulangan ke-2\n",
            "Perulangan ke-3\n",
            "Perulangan ke-4\n",
            "Perulangan ke-5\n",
            "Perulangan ke-6\n",
            "Perulangan ke-7\n",
            "Perulangan ke-8\n",
            "Perulangan ke-9\n"
          ]
        }
      ],
      "source": [
        "ulang = 10\n",
        "\n",
        "for i in range(ulang):\n",
        "    print(f\"Perulangan ke-{i}\")"
      ]
    },
    {
      "cell_type": "code",
      "source": [
        "item = ['kopi','nasi','teh','jeruk']\n",
        "\n",
        "for isi in item:\n",
        "    print(isi)"
      ],
      "metadata": {
        "colab": {
          "base_uri": "https://localhost:8080/"
        },
        "id": "Goe1tpDxFS6g",
        "outputId": "049fa4fe-b2d2-4a6d-8a34-edb1a5453d0e"
      },
      "execution_count": null,
      "outputs": [
        {
          "output_type": "stream",
          "name": "stdout",
          "text": [
            "kopi\n",
            "nasi\n",
            "teh\n",
            "jeruk\n"
          ]
        }
      ]
    },
    {
      "cell_type": "code",
      "source": [
        "jawab = 'ya'\n",
        "hitung = 0\n",
        "\n",
        "while(jawab == 'ya'):\n",
        "    hitung += 1\n",
        "    jawab = input(\"Ulang lagi tidak? \")\n",
        "\n",
        "print(f\"Total perulagan: {hitung}\")"
      ],
      "metadata": {
        "colab": {
          "base_uri": "https://localhost:8080/"
        },
        "id": "IAJDx_pEFaaM",
        "outputId": "0dd33ed1-2877-48bf-df9a-7df12c1460f0"
      },
      "execution_count": null,
      "outputs": [
        {
          "output_type": "stream",
          "name": "stdout",
          "text": [
            "Ulang lagi tidak? ya\n",
            "Ulang lagi tidak? ya\n",
            "Ulang lagi tidak? tidak\n",
            "Total perulagan: 3\n"
          ]
        }
      ]
    },
    {
      "cell_type": "code",
      "source": [
        "buah = [\"apel\", \"anggur\", \"mangga\", \"jeruk\"]\n",
        "\n",
        "print (buah[2])"
      ],
      "metadata": {
        "colab": {
          "base_uri": "https://localhost:8080/"
        },
        "id": "C409xTuyFuRs",
        "outputId": "26c2ac5f-b308-4245-beb5-73aaa5efaca1"
      },
      "execution_count": null,
      "outputs": [
        {
          "output_type": "stream",
          "name": "stdout",
          "text": [
            "mangga\n"
          ]
        }
      ]
    },
    {
      "cell_type": "code",
      "source": [
        "my_friends = [\"Anggun\", \"Dian\", \"Agung\", \"Adi\", \"Adam\"]\n",
        "\n",
        "print (\"Isi my_friends indeks ke-3 adalah: {}\".format(my_friends[3]))\n",
        "\n",
        "print (\"Semua teman: ada {} orang\".format(len(my_friends)))\n",
        "for friend in my_friends:\n",
        "    print (friend)"
      ],
      "metadata": {
        "colab": {
          "base_uri": "https://localhost:8080/"
        },
        "id": "YGo1bdizF4q0",
        "outputId": "e7df75c8-6fc8-4eba-b099-40aa7b95fed9"
      },
      "execution_count": null,
      "outputs": [
        {
          "output_type": "stream",
          "name": "stdout",
          "text": [
            "Isi my_friends indeks ke-3 adalah: Adi\n",
            "Semua teman: ada 5 orang\n",
            "Anggun\n",
            "Dian\n",
            "Agung\n",
            "Adi\n",
            "Adam\n"
          ]
        }
      ]
    }
  ]
}